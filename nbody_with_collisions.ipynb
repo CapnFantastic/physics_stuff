{
  "nbformat": 4,
  "nbformat_minor": 0,
  "metadata": {
    "colab": {
      "name": "nbody_with_collisions",
      "provenance": [],
      "collapsed_sections": []
    },
    "kernelspec": {
      "name": "python3",
      "display_name": "Python 3"
    }
  },
  "cells": [
    {
      "cell_type": "markdown",
      "metadata": {
        "id": "G93fa8tgIdSj",
        "colab_type": "text"
      },
      "source": [
        "#Imports"
      ]
    },
    {
      "cell_type": "code",
      "metadata": {
        "id": "e0Ei4TeTG6Hw",
        "colab_type": "code",
        "colab": {}
      },
      "source": [
        "import math\n",
        "import random\n",
        "import matplotlib.pyplot as plot\n",
        "from mpl_toolkits.mplot3d import Axes3D\n",
        "import numpy as np"
      ],
      "execution_count": 0,
      "outputs": []
    },
    {
      "cell_type": "markdown",
      "metadata": {
        "id": "iV2JCdd7IhFW",
        "colab_type": "text"
      },
      "source": [
        "#Create classes to hold point and body information"
      ]
    },
    {
      "cell_type": "code",
      "metadata": {
        "id": "mptpqZLoIwj9",
        "colab_type": "code",
        "colab": {}
      },
      "source": [
        "class point:\n",
        "    def __init__(self, x,y,z):\n",
        "        self.x = x\n",
        "        self.y = y\n",
        "        self.z = z\n",
        "\n",
        "class body:\n",
        "    def __init__(self, location, mass, velocity, name = \"\"): #L is angular velocity vector [Lx, Ly, Lz]\n",
        "        self.location = location\n",
        "        self.mass = mass\n",
        "        self.velocity = velocity\n",
        "        self.L = np.cross((self.location.x, self.location.y, self.location.z),(self.mass * self.velocity.x, self.mass * self.velocity.y, self.mass * self.velocity.z)).tolist()\n",
        "        self.name = name"
      ],
      "execution_count": 0,
      "outputs": []
    },
    {
      "cell_type": "markdown",
      "metadata": {
        "id": "B5VKm5xdTLAA",
        "colab_type": "text"
      },
      "source": [
        "#Random body info generator\n",
        "This is arbitrary at the moment based on what numbers just seem to create elliptical orbits with this model. \n",
        "\n",
        "Hopefully I can generalize in the future for E < 0 --> elliptical orbits"
      ]
    },
    {
      "cell_type": "code",
      "metadata": {
        "id": "YLaSxWKyUTOS",
        "colab_type": "code",
        "colab": {}
      },
      "source": [
        "def random_posn():\n",
        "  return point(random.randrange(-5e11, 5e11), random.randrange(-5e11, 5e11), random.randrange(-5e11, 5e11))\n",
        "\n",
        "def random_vel():\n",
        "  return point(random.randrange(-1e4, 1e4), random.randrange(-1e4, 1e4), random.randrange(-1e4, 1e4))\n",
        "\n",
        "def random_mass():\n",
        "  return random.random() * 1e26\n",
        "\n",
        "def random_color():\n",
        "  return (random.random(), random.random(), random.random())"
      ],
      "execution_count": 0,
      "outputs": []
    },
    {
      "cell_type": "markdown",
      "metadata": {
        "id": "6tZIrk5GIyEf",
        "colab_type": "text"
      },
      "source": [
        "#Model body behavior and collisions"
      ]
    },
    {
      "cell_type": "code",
      "metadata": {
        "id": "N81nIHjwueru",
        "colab_type": "code",
        "colab": {}
      },
      "source": [
        "def collisions(bodies, body_locations_hist):\n",
        "\n",
        "  collision_indices = []\n",
        "\n",
        "  for i in range(len(bodies)):\n",
        "    for j in range(len(bodies)):\n",
        "      r = math.sqrt((bodies[i].location.x - bodies[j].location.x)**2 + (bodies[i].location.y - bodies[j].location.y)**2 + (bodies[i].location.z - bodies[j].location.z)**2)\n",
        "      if i != j and r < 2.5e10:\n",
        "        collision_indices.append(i)   \n",
        "\n",
        "  if collision_indices:\n",
        "    \n",
        "    colliders = []\n",
        "    for index in reversed(collision_indices):\n",
        "      colliders.append(bodies[index])\n",
        "      body_locations_hist.pop(index)\n",
        "\n",
        "    velx = (colliders[0].mass * colliders[0].velocity.x + colliders[1].mass * colliders[1].velocity.x) / (colliders[0].mass + colliders[1].mass)\n",
        "    vely = (colliders[0].mass * colliders[0].velocity.y + colliders[1].mass * colliders[1].velocity.y) / (colliders[0].mass + colliders[1].mass)\n",
        "    velz = (colliders[0].mass * colliders[0].velocity.z + colliders[1].mass * colliders[1].velocity.z) / (colliders[0].mass + colliders[1].mass)\n",
        "    vel = point(velx, vely, velz)\n",
        "\n",
        "    #create new body\n",
        "    bodies.append(body(location = point(((colliders[0].location.x + colliders[1].location.x) / 2),((colliders[0].location.y + colliders[1].location.y) / 2), ((colliders[0].location.z + colliders[1].location.z) / 2)), mass = colliders[0].mass + colliders[1].mass, velocity = vel))\n",
        "    body_locations_hist.append({\"x\":[], \"y\":[], \"z\":[], \"name\":bodies[-1].name})\n",
        "    \n",
        "    \n",
        "    #remove colliders from bodies\n",
        "    for collider in colliders:\n",
        "      bodies.remove(collider)"
      ],
      "execution_count": 0,
      "outputs": []
    },
    {
      "cell_type": "code",
      "metadata": {
        "id": "QhC-Biq3JC8-",
        "colab_type": "code",
        "colab": {}
      },
      "source": [
        "def calculate_single_body_acceleration(bodies, body_index):\n",
        "    G_const = 6.67408e-11 #m3 kg-1 s-2\n",
        "    acceleration = point(0,0,0)\n",
        "    target_body = bodies[body_index]\n",
        "    for index, external_body in enumerate(bodies):\n",
        "        if index != body_index:\n",
        "            r = (target_body.location.x - external_body.location.x)**2 + (target_body.location.y - external_body.location.y)**2 + (target_body.location.z - external_body.location.z)**2\n",
        "            r = math.sqrt(r)\n",
        "            tmp = G_const * external_body.mass / r**3\n",
        "            acceleration.x += tmp * (external_body.location.x - target_body.location.x)\n",
        "            acceleration.y += tmp * (external_body.location.y - target_body.location.y)\n",
        "            acceleration.z += tmp * (external_body.location.z - target_body.location.z)\n",
        "\n",
        "    return acceleration"
      ],
      "execution_count": 0,
      "outputs": []
    },
    {
      "cell_type": "code",
      "metadata": {
        "id": "M22L6rlPJEov",
        "colab_type": "code",
        "colab": {}
      },
      "source": [
        "def compute_velocity(bodies, body_locations_hist, time_step = 1):\n",
        "    \n",
        "    collisions(bodies, body_locations_hist)\n",
        "\n",
        "    for body_index, target_body in enumerate(bodies):\n",
        "        acceleration = calculate_single_body_acceleration(bodies, body_index)\n",
        "\n",
        "        target_body.velocity.x += acceleration.x * time_step\n",
        "        target_body.velocity.y += acceleration.y * time_step\n",
        "        target_body.velocity.z += acceleration.z * time_step "
      ],
      "execution_count": 0,
      "outputs": []
    },
    {
      "cell_type": "code",
      "metadata": {
        "id": "TNnmx4K1IYtu",
        "colab_type": "code",
        "colab": {}
      },
      "source": [
        "def update_location(bodies, time_step = 1):\n",
        "    for target_body in bodies:\n",
        "        target_body.location.x += target_body.velocity.x * time_step\n",
        "        target_body.location.y += target_body.velocity.y * time_step\n",
        "        target_body.location.z += target_body.velocity.z * time_step"
      ],
      "execution_count": 0,
      "outputs": []
    },
    {
      "cell_type": "code",
      "metadata": {
        "id": "ELBE3H7-Ia1E",
        "colab_type": "code",
        "colab": {}
      },
      "source": [
        "def compute_gravity_step(bodies, body_locations_hist, time_step = 1):\n",
        "    compute_velocity(bodies, body_locations_hist, time_step = time_step)\n",
        "    update_location(bodies, time_step = time_step)\n",
        "    \n",
        "    #update L\n",
        "    for single_body in bodies:\n",
        "      single_body.L = np.cross((single_body.location.x, single_body.location.y, single_body.location.z),(single_body.mass * single_body.velocity.x, single_body.mass * single_body.velocity.y, single_body.mass * single_body.velocity.z)).tolist()\n",
        "      "
      ],
      "execution_count": 0,
      "outputs": []
    },
    {
      "cell_type": "markdown",
      "metadata": {
        "id": "mWVbDa15JUf_",
        "colab_type": "text"
      },
      "source": [
        "#Simulation function"
      ]
    },
    {
      "cell_type": "code",
      "metadata": {
        "id": "MwiD9YF7JR71",
        "colab_type": "code",
        "colab": {}
      },
      "source": [
        "def run_simulation(bodies, names = None, time_step = 1, number_of_steps = 10000, report_freq = 100):\n",
        "\n",
        "    #create output container for each body\n",
        "    body_locations_hist = []\n",
        "\n",
        "    for current_body in bodies:\n",
        "        body_locations_hist.append({\"x\":[], \"y\":[], \"z\":[], \"name\":current_body.name})\n",
        "\n",
        "    for i in range(1,number_of_steps):\n",
        "        compute_gravity_step(bodies, body_locations_hist, time_step = 1000)            \n",
        "        \n",
        "        if i % report_freq == 0:\n",
        "            for index, body_location in enumerate(body_locations_hist):\n",
        "                body_location[\"x\"].append(bodies[index].location.x)\n",
        "                body_location[\"y\"].append(bodies[index].location.y)           \n",
        "                body_location[\"z\"].append(bodies[index].location.z) \n",
        "\n",
        "    return body_locations_hist"
      ],
      "execution_count": 0,
      "outputs": []
    },
    {
      "cell_type": "markdown",
      "metadata": {
        "id": "hjDkBw3tJLoO",
        "colab_type": "text"
      },
      "source": [
        "#Plotting"
      ]
    },
    {
      "cell_type": "code",
      "metadata": {
        "id": "1B9Mg3i6JRJV",
        "colab_type": "code",
        "colab": {}
      },
      "source": [
        "def plot_output(bodies, L):\n",
        "    print('body count: ', len(bodies))\n",
        "    fig = plot.figure()\n",
        "    ax = fig.add_subplot(1,1,1, projection='3d')\n",
        "    max_range = 0\n",
        "    for current_body in bodies: \n",
        "        max_dim = max(max(current_body[\"x\"]),max(current_body[\"y\"]),max(current_body[\"z\"]))\n",
        "        if max_dim > max_range:\n",
        "            max_range = max_dim\n",
        "        ax.plot(current_body[\"x\"], current_body[\"y\"], current_body[\"z\"], c = random_color(), label = current_body[\"name\"])        \n",
        "    \n",
        "    ax.plot([0,L[0]],[0,L[1]],[0,L[2]],'r--')#plot L vector\n",
        "\n",
        "    ax.set_xlim([-max_range,max_range])    \n",
        "    ax.set_ylim([-max_range,max_range])\n",
        "    ax.set_zlim([-max_range,max_range])\n",
        "\n",
        "    ax.set_xlim([-5e11,5e11])    \n",
        "    ax.set_ylim([-5e11,5e11])\n",
        "    ax.set_zlim([-5e11,5e11])\n",
        "    fig.suptitle('nbody orbit simulator')\n",
        "\n",
        "    plot.show()"
      ],
      "execution_count": 0,
      "outputs": []
    },
    {
      "cell_type": "code",
      "metadata": {
        "id": "y3E9maSL72Lv",
        "colab_type": "code",
        "colab": {}
      },
      "source": [
        "def plot_L_distribution(bodies):\n",
        "\n",
        "    Ls = [single_body.L for single_body in bodies]\n",
        "    Lx, Ly, Lz = map(list, zip(*Ls))\n",
        "\n",
        "    fig, axs = plot.subplots(3, 1)\n",
        "    fig.suptitle('distribution of Lx, Ly, and Lz')\n",
        "    axs[0].hist(Lx)\n",
        "    axs[1].hist(Ly)\n",
        "    axs[2].hist(Lz)\n",
        "\n",
        "    print('Standard dev. Lx:{0} Ly:{1} Lz:{2}'.format(np.std(Lx), np.std(Ly), np.std(Lz)))    \n"
      ],
      "execution_count": 0,
      "outputs": []
    },
    {
      "cell_type": "markdown",
      "metadata": {
        "id": "EZTJZAc_JlPk",
        "colab_type": "text"
      },
      "source": [
        "#Data"
      ]
    },
    {
      "cell_type": "code",
      "metadata": {
        "id": "eXquGjKVKq9h",
        "colab_type": "code",
        "colab": {}
      },
      "source": [
        "bodies = [body(location = point(0,0,0), mass = 2e30, velocity = point(0,0,0))] #initialize big central mass\n",
        "\n",
        "N = 10 #for N-bodies in the simulation\n",
        "\n",
        "for i in range(N):\n",
        "  bodies.append(body(location = random_posn(), mass = random_mass(), velocity = random_vel()))"
      ],
      "execution_count": 0,
      "outputs": []
    },
    {
      "cell_type": "markdown",
      "metadata": {
        "id": "pH5iXLUY2mcR",
        "colab_type": "text"
      },
      "source": [
        "#Find angular momentum of all bodies\n"
      ]
    },
    {
      "cell_type": "code",
      "metadata": {
        "id": "E_drtTxZ2rUK",
        "colab_type": "code",
        "outputId": "bcc23a75-dec9-4ce0-9bdc-7e0238ce24d2",
        "colab": {
          "base_uri": "https://localhost:8080/",
          "height": 324
        }
      },
      "source": [
        "L_list = [single_body.L for single_body in bodies]\n",
        "L_total = np.sum(L_list, axis=0)\n",
        "plot_L_distribution(bodies)"
      ],
      "execution_count": 0,
      "outputs": [
        {
          "output_type": "stream",
          "text": [
            "Standard dev. Lx:9.669624521823269e+40 Ly:1.3904421987726044e+41 Lz:1.3628467279738701e+41\n"
          ],
          "name": "stdout"
        },
        {
          "output_type": "display_data",
          "data": {
            "image/png": "[encoded data removed]",
            "text/plain": [
              "<Figure size 432x288 with 3 Axes>"
            ]
          },
          "metadata": {
            "tags": [],
            "needs_background": "light"
          }
        }
      ]
    },
    {
      "cell_type": "markdown",
      "metadata": {
        "id": "ZwynrIbEJXX1",
        "colab_type": "text"
      },
      "source": [
        "#Simulate"
      ]
    },
    {
      "cell_type": "code",
      "metadata": {
        "id": "5J3_8ouvJdVW",
        "colab_type": "code",
        "outputId": "abd1edfb-5e65-4e01-80bb-fd7628942160",
        "colab": {
          "base_uri": "https://localhost:8080/",
          "height": 294
        }
      },
      "source": [
        "#simulate with collisions\n",
        "motions = run_simulation(bodies, time_step = 1000, number_of_steps = 200000, report_freq = 2000)\n",
        "plot_output(motions, L_total)\n"
      ],
      "execution_count": 0,
      "outputs": [
        {
          "output_type": "stream",
          "text": [
            "body count:  8\n"
          ],
          "name": "stdout"
        },
        {
          "output_type": "display_data",
          "data": {
            "image/png": "[encoded data removed]",
            "text/plain": [
              "<Figure size 432x288 with 1 Axes>"
            ]
          },
          "metadata": {
            "tags": [],
            "needs_background": "light"
          }
        }
      ]
    },
    {
      "cell_type": "code",
      "metadata": {
        "id": "scvlY3VmFhT3",
        "colab_type": "code",
        "outputId": "70ded5da-79f7-49b2-819f-0ae130fe7765",
        "colab": {
          "base_uri": "https://localhost:8080/",
          "height": 324
        }
      },
      "source": [
        "plot_L_distribution(bodies)"
      ],
      "execution_count": 0,
      "outputs": [
        {
          "output_type": "stream",
          "text": [
            "Standard dev. Lx:9.81025099686277e+40 Ly:1.6036628328000117e+41 Lz:1.4872349978031125e+41\n"
          ],
          "name": "stdout"
        },
        {
          "output_type": "display_data",
          "data": {
            "image/png": "[encoded data removed]",
            "text/plain": [
              "<Figure size 432x288 with 3 Axes>"
            ]
          },
          "metadata": {
            "tags": [],
            "needs_background": "light"
          }
        }
      ]
    },
    {
      "cell_type": "markdown",
      "metadata": {
        "id": "vyhSRYshRLAs",
        "colab_type": "text"
      },
      "source": [
        "#Model limitations\n",
        "* I'm trying to model gasses colliding with just...a relatively small number of discrete bodies. That probably only works so well. \n",
        "*   This uses the Euler method of numerical integration. It gets pretty inaccurate as you leave planetary scales...so that's why all the body values are so arbitrarily large. \n",
        "* If 2 bodies collide, their resultant body's history is plotted. Their 2 separate bodies' histories are not. \n",
        "* The collision condition is actually really stupid (r < 1e11) or something where a body's r can initially be between 0 and 5e11. This is because if I set the condition to be realistic (r < 1e7), I'd have to simulate a bajillion bodies in order for collisions to occur. And I don't have the time nor the computing power to do that. So instead of simulating more bodies, I just made the condition less realistic. Obviously, this is one of the drawbacks of modeling a gas with a small number of discrete bodies. \n",
        "*   Another reason the body values are the way they are is a result of that range of values for working well enough to, for the most part, yield elliptical orbits. Ideally, I'd have some sort of function to constrain the values the body can take so that it is elliptical (E < 0).  \n",
        "*   You might get an error that looks something like...\n",
        "\n",
        "\n",
        "\n",
        "\n",
        "> ---------------------------------------------------------------------------\n",
        "ValueError                                Traceback (most recent call last)\n",
        "<ipython-input-56-340df4a6003a> in <module>()\n",
        "     1 motions = run_simulation(bodies, time_step = 5000, number_of_steps = 400000, report_freq = 6000)\n",
        "      2 plot_output(motions, L_total)\n",
        "3 frames\n",
        "\n",
        "> --------------------------------------------------------------------------\n",
        "<ipython-input-46-af6560a32bbc> in collisions(bodies, body_locations_hist)\n",
        "     28     #remove old bodies\n",
        "     29     for collider in colliders:\n",
        "     30       bodies.remove(collider)\n",
        "     31 \n",
        "ValueError: list.remove(x): x not in list\n",
        "> ------------------------------------------------------------------\n",
        "\n",
        "* I haven't modified the collisions code to account for when more than 2 bodies are colliding. For the moment...just run the entire code again and you probably won't get this error again. "
      ]
    },
    {
      "cell_type": "markdown",
      "metadata": {
        "id": "CpYatsZMOIeT",
        "colab_type": "text"
      },
      "source": [
        "#Credit where credit is due\n",
        "This is built off of Ben Eagan's gravity.py, which can be found [here](https://gist.github.com/benrules2/a04a4d318625516877a0f3302331d407#file-gravity-py). My main contribution is generating random orbits, adding collisions, and tracking angular momentum.   "
      ]
    }
  ]
}